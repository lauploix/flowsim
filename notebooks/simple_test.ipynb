{
 "cells": [
  {
   "cell_type": "code",
   "execution_count": 1,
   "id": "e417680d",
   "metadata": {},
   "outputs": [],
   "source": [
    "import simpy"
   ]
  },
  {
   "cell_type": "code",
   "execution_count": 2,
   "id": "7e19642c",
   "metadata": {},
   "outputs": [
    {
     "name": "stdout",
     "output_type": "stream",
     "text": [
      "Event Latency\n",
      "Received this at 15 while Sender sent this at 5\n",
      "Received this at 20 while Sender sent this at 10\n",
      "Received this at 25 while Sender sent this at 15\n",
      "Received this at 30 while Sender sent this at 20\n",
      "Received this at 35 while Sender sent this at 25\n",
      "Received this at 40 while Sender sent this at 30\n",
      "Received this at 45 while Sender sent this at 35\n",
      "Received this at 50 while Sender sent this at 40\n",
      "Received this at 55 while Sender sent this at 45\n",
      "Received this at 60 while Sender sent this at 50\n",
      "Received this at 65 while Sender sent this at 55\n",
      "Received this at 70 while Sender sent this at 60\n",
      "Received this at 75 while Sender sent this at 65\n",
      "Received this at 80 while Sender sent this at 70\n",
      "Received this at 85 while Sender sent this at 75\n",
      "Received this at 90 while Sender sent this at 80\n",
      "Received this at 95 while Sender sent this at 85\n"
     ]
    }
   ],
   "source": [
    "import simpy\n",
    "\n",
    "\n",
    "SIM_DURATION = 100\n",
    "\n",
    "\n",
    "class Cable(object):\n",
    "    \"\"\"This class represents the propagation through a cable.\"\"\"\n",
    "    def __init__(self, env, delay):\n",
    "        self.env = env\n",
    "        self.delay = delay\n",
    "        self.store = simpy.Store(env)\n",
    "\n",
    "    def latency(self, value):\n",
    "        yield self.env.timeout(self.delay)\n",
    "        self.store.put(value)\n",
    "\n",
    "    def put(self, value):\n",
    "        self.env.process(self.latency(value))\n",
    "\n",
    "    def get(self):\n",
    "        return self.store.get()\n",
    "\n",
    "\n",
    "def sender(env, cable):\n",
    "    \"\"\"A process which randomly generates messages.\"\"\"\n",
    "    while True:\n",
    "        # wait for next transmission\n",
    "        yield env.timeout(5)\n",
    "        cable.put('Sender sent this at %d' % env.now)\n",
    "\n",
    "\n",
    "def receiver(env, cable):\n",
    "    \"\"\"A process which consumes messages.\"\"\"\n",
    "    while True:\n",
    "        # Get event for message pipe\n",
    "        msg = yield cable.get()\n",
    "        print('Received this at %d while %s' % (env.now, msg))\n",
    "\n",
    "\n",
    "# Setup and start the simulation\n",
    "print('Event Latency')\n",
    "env = simpy.Environment()\n",
    "\n",
    "cable = Cable(env, 10)\n",
    "env.process(sender(env, cable))\n",
    "env.process(receiver(env, cable))\n",
    "\n",
    "env.run(until=SIM_DURATION)"
   ]
  },
  {
   "cell_type": "code",
   "execution_count": null,
   "id": "58cd6752",
   "metadata": {},
   "outputs": [],
   "source": []
  }
 ],
 "metadata": {
  "kernelspec": {
   "display_name": "Python 3 (ipykernel)",
   "language": "python",
   "name": "python3"
  },
  "language_info": {
   "codemirror_mode": {
    "name": "ipython",
    "version": 3
   },
   "file_extension": ".py",
   "mimetype": "text/x-python",
   "name": "python",
   "nbconvert_exporter": "python",
   "pygments_lexer": "ipython3",
   "version": "3.12.1"
  }
 },
 "nbformat": 4,
 "nbformat_minor": 5
}
