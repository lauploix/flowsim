{
 "cells": [
  {
   "cell_type": "code",
   "execution_count": 2,
   "id": "0bc6844d-6747-457f-b0fd-bd41e6022f27",
   "metadata": {},
   "outputs": [
    {
     "data": {
      "application/vnd.jupyter.widget-view+json": {
       "model_id": "f443409b03bf4b34b5760b865bd17f40",
       "version_major": 2,
       "version_minor": 0
      },
      "text/plain": [
       "interactive(children=(Play(value=0, description='t1', max=3600, step=10), IntSlider(value=100, description='nb…"
      ]
     },
     "metadata": {},
     "output_type": "display_data"
    },
    {
     "data": {
      "text/plain": [
       "<function __main__.theta(t1, nb)>"
      ]
     },
     "execution_count": 2,
     "metadata": {},
     "output_type": "execute_result"
    }
   ],
   "source": [
    "import ipywidgets as widgets\n",
    "import numpy as np\n",
    "import matplotlib.pyplot as plt\n",
    "from ipywidgets import Box\n",
    "\n",
    "def theta(t1, nb):\n",
    "    fig = plt.figure(figsize = (10,5))\n",
    "    t = np.linspace(0, t1, nb)\n",
    "    x = np.sin(np.radians(t))\n",
    "    plt.plot(t, x)\n",
    "    plt.xlabel(\"Degrees\")\n",
    "    plt.ylabel(\"amplitude\")\n",
    "    plt.show()\n",
    "\n",
    "widgets.interact(theta, t1=widgets.Play(min=0, max=3600, step=10), nb = widgets.IntSlider(\n",
    "    value=100,\n",
    "    min=2,\n",
    "    max=500,\n",
    "    step=1,\n",
    "    continuous_update=True,\n",
    "))\n",
    "\n",
    "#widgets"
   ]
  },
  {
   "cell_type": "code",
   "execution_count": null,
   "id": "b522f530-fbe8-4f43-b4c5-c9d0315b4072",
   "metadata": {},
   "outputs": [],
   "source": []
  }
 ],
 "metadata": {
  "kernelspec": {
   "display_name": "Python 3 (ipykernel)",
   "language": "python",
   "name": "python3"
  },
  "language_info": {
   "codemirror_mode": {
    "name": "ipython",
    "version": 3
   },
   "file_extension": ".py",
   "mimetype": "text/x-python",
   "name": "python",
   "nbconvert_exporter": "python",
   "pygments_lexer": "ipython3",
   "version": "3.12.1"
  }
 },
 "nbformat": 4,
 "nbformat_minor": 5
}
