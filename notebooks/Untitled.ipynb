{
 "cells": [
  {
   "cell_type": "code",
   "execution_count": 1,
   "id": "69e12de7",
   "metadata": {},
   "outputs": [],
   "source": [
    "import simpy"
   ]
  },
  {
   "cell_type": "code",
   "execution_count": 2,
   "id": "68cf8ce7",
   "metadata": {},
   "outputs": [
    {
     "ename": "ModuleNotFoundError",
     "evalue": "No module named 'matplotlib'",
     "output_type": "error",
     "traceback": [
      "\u001b[0;31m---------------------------------------------------------------------------\u001b[0m",
      "\u001b[0;31mModuleNotFoundError\u001b[0m                       Traceback (most recent call last)",
      "Cell \u001b[0;32mIn[2], line 1\u001b[0m\n\u001b[0;32m----> 1\u001b[0m \u001b[38;5;28;01mimport\u001b[39;00m \u001b[38;5;21;01mmatplotlib\u001b[39;00m\u001b[38;5;21;01m.\u001b[39;00m\u001b[38;5;21;01mpyplot\u001b[39;00m \u001b[38;5;28;01mas\u001b[39;00m \u001b[38;5;21;01mplt\u001b[39;00m\n\u001b[1;32m      3\u001b[0m \u001b[38;5;66;03m# Define the simulation model\u001b[39;00m\n\u001b[1;32m      4\u001b[0m \u001b[38;5;28;01mdef\u001b[39;00m \u001b[38;5;21mqueue_model\u001b[39m(env):\n",
      "\u001b[0;31mModuleNotFoundError\u001b[0m: No module named 'matplotlib'"
     ]
    }
   ],
   "source": [
    "import matplotlib.pyplot as plt\n",
    "\n",
    "# Define the simulation model\n",
    "def queue_model(env):\n",
    "    queue = simpy.Store(capacity=5)\n",
    "    arrive_interval = simpy.Interarrival(median=1/3)\n",
    "    serve_interval = simpy.Interarrival(median=1)\n",
    "\n",
    "    while True:\n",
    "        yield env.timeout(arrive_interval.sample())\n",
    "        entity = Entity()\n",
    "        print(f\"Entity {entity.id} arrives at {env.now}\")\n",
    "        if queue.count < queue.capacity:\n",
    "            queue.put(entity)\n",
    "            print(f\"Entity {entity.id} joins the queue\")\n",
    "        else:\n",
    "            print(f\"Entity {entity.id} is rejected\")\n",
    "\n",
    "        yield env.timeout(serve_interval.sample())\n",
    "        if queue:\n",
    "            entity = queue.get()\n",
    "            print(f\"Entity {entity.id} departs from the queue\")\n",
    "\n",
    "# Define the Entity class\n",
    "class Entity:\n",
    "    def __init__(self, id=None):\n",
    "        self.id = id or len(entities) + 1\n",
    "        entities.append(self)\n",
    "\n",
    "# Initialize the simulation\n",
    "env = simpy.Environment()\n",
    "entities = []\n",
    "\n",
    "# Run the simulation\n",
    "env.process(queue_model(env))\n",
    "env.run()\n",
    "\n",
    "# Visualize the queue\n",
    "queue_lengths = [len(entities) for _ in range(len(entities))]\n",
    "plt.plot(queue_lengths)\n",
    "plt.xlabel(\"Time\")\n",
    "plt.ylabel(\"Queue Length\")\n",
    "plt.show()"
   ]
  },
  {
   "cell_type": "code",
   "execution_count": null,
   "id": "9fbe8d3b",
   "metadata": {},
   "outputs": [],
   "source": []
  }
 ],
 "metadata": {
  "kernelspec": {
   "display_name": "Python 3 (ipykernel)",
   "language": "python",
   "name": "python3"
  },
  "language_info": {
   "codemirror_mode": {
    "name": "ipython",
    "version": 3
   },
   "file_extension": ".py",
   "mimetype": "text/x-python",
   "name": "python",
   "nbconvert_exporter": "python",
   "pygments_lexer": "ipython3",
   "version": "3.12.1"
  }
 },
 "nbformat": 4,
 "nbformat_minor": 5
}
