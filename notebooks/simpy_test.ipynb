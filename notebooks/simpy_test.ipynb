{
 "cells": [
  {
   "cell_type": "code",
   "execution_count": 4,
   "id": "7e19642c",
   "metadata": {},
   "outputs": [
    {
     "name": "stdout",
     "output_type": "stream",
     "text": [
      "Customer 1 arrives at time 0\n",
      "Customer 2 arrives at time 0\n",
      "Customer 3 arrives at time 0\n",
      "Customer 4 arrives at time 0\n",
      "Customer 5 arrives at time 0\n",
      "Customer 1 starts service at time 0 after waiting for 0\n",
      "Customer 1 leaves at time 1.7535906963573091\n",
      "Customer 2 starts service at time 1.7535906963573091 after waiting for 1.7535906963573091\n",
      "Customer 2 leaves at time 4.2464080912555655\n",
      "Customer 3 starts service at time 4.2464080912555655 after waiting for 4.2464080912555655\n",
      "Customer 3 leaves at time 5.627587009865598\n",
      "Customer 4 starts service at time 5.627587009865598 after waiting for 5.627587009865598\n",
      "Customer 4 leaves at time 8.180162446092531\n",
      "Customer 5 starts service at time 8.180162446092531 after waiting for 8.180162446092531\n",
      "Customer 5 leaves at time 9.962158498072949\n"
     ]
    },
    {
     "data": {
      "image/png": "[encoded data removed]",
      "text/plain": [
       "<Figure size 640x480 with 1 Axes>"
      ]
     },
     "metadata": {},
     "output_type": "display_data"
    }
   ],
   "source": [
    "import simpy\n",
    "import random\n",
    "import matplotlib.pyplot as plt\n",
    "\n",
    "def customer(env, name, service_time, queue, wait_times):\n",
    "    arrival_time = env.now\n",
    "    print(f\"{name} arrives at time {arrival_time}\")\n",
    "\n",
    "    with queue.request() as req:\n",
    "        yield req\n",
    "\n",
    "        wait_time = env.now - arrival_time\n",
    "        wait_times.append(wait_time)\n",
    "        print(f\"{name} starts service at time {env.now} after waiting for {wait_time}\")\n",
    "\n",
    "        yield env.timeout(service_time)\n",
    "        print(f\"{name} leaves at time {env.now}\")\n",
    "\n",
    "def run_simulation():\n",
    "    env = simpy.Environment()\n",
    "    queue = simpy.Resource(env, capacity=1)  # One server\n",
    "\n",
    "    wait_times = []\n",
    "\n",
    "    for i in range(5):\n",
    "        service_time = random.uniform(1, 3)  # Random service time for each customer\n",
    "        env.process(customer(env, f'Customer {i+1}', service_time, queue, wait_times))\n",
    "\n",
    "    env.run()\n",
    "\n",
    "    # Plotting\n",
    "    plt.plot(wait_times, marker='o')\n",
    "    plt.title('Queue Wait Times')\n",
    "    plt.xlabel('Customer')\n",
    "    plt.ylabel('Wait Time')\n",
    "    plt.show()\n",
    "\n",
    "if __name__ == \"__main__\":\n",
    "    run_simulation()"
   ]
  },
  {
   "cell_type": "code",
   "execution_count": 5,
   "id": "58cd6752",
   "metadata": {},
   "outputs": [],
   "source": [
    "def car(env):\n",
    "    while True:\n",
    "        print('Start parking at %d' % env.now)\n",
    "        parking_duration = 5\n",
    "        yield env.timeout(parking_duration)\n",
    "\n",
    "        print('Start driving at %d' % env.now)\n",
    "        trip_duration = 2\n",
    "        yield env.timeout(trip_duration)"
   ]
  },
  {
   "cell_type": "code",
   "execution_count": 6,
   "id": "e1ac81a9-c492-409a-a5ce-4d1c94ff7b3c",
   "metadata": {},
   "outputs": [
    {
     "name": "stdout",
     "output_type": "stream",
     "text": [
      "Start parking at 0\n",
      "Start driving at 5\n",
      "Start parking at 7\n",
      "Start driving at 12\n",
      "Start parking at 14\n"
     ]
    }
   ],
   "source": [
    "env = simpy.Environment()\n",
    "env.process(car(env))\n",
    "\n",
    "env.run(until=15)"
   ]
  },
  {
   "cell_type": "code",
   "execution_count": 7,
   "id": "044cd8fa-772c-4cdf-b0f5-c6998ba48047",
   "metadata": {},
   "outputs": [],
   "source": [
    "class Car(object):\n",
    "    def __init__(self, env):\n",
    "        self.env = env\n",
    "        # Start the run process everytime an instance is created.\n",
    "        self.action = env.process(self.run())\n",
    "\n",
    "    def run(self):\n",
    "        while True:\n",
    "            print('Start parking and charging at %d' % self.env.now)\n",
    "            charge_duration = 5\n",
    "            # We yield the process that process() returns\n",
    "            # to wait for it to finish\n",
    "            yield self.env.process(self.charge(charge_duration))\n",
    "\n",
    "            # The charge process has finished and\n",
    "            # we can start driving again.\n",
    "            print('Start driving at %d' % self.env.now)\n",
    "            trip_duration = 2\n",
    "            yield self.env.timeout(trip_duration)\n",
    "\n",
    "    def charge(self, duration):\n",
    "        yield self.env.timeout(duration)"
   ]
  },
  {
   "cell_type": "code",
   "execution_count": 8,
   "id": "55d84094-8953-4eb2-871c-8345cecd12a7",
   "metadata": {},
   "outputs": [
    {
     "name": "stdout",
     "output_type": "stream",
     "text": [
      "Start parking and charging at 0\n",
      "Start driving at 5\n",
      "Start parking and charging at 7\n",
      "Start driving at 12\n",
      "Start parking and charging at 14\n"
     ]
    }
   ],
   "source": [
    "env = simpy.Environment()\n",
    "car = Car(env)\n",
    "env.run(until=15)"
   ]
  },
  {
   "cell_type": "code",
   "execution_count": null,
   "id": "b522f530-fbe8-4f43-b4c5-c9d0315b4072",
   "metadata": {},
   "outputs": [],
   "source": []
  }
 ],
 "metadata": {
  "kernelspec": {
   "display_name": "Python 3 (ipykernel)",
   "language": "python",
   "name": "python3"
  },
  "language_info": {
   "codemirror_mode": {
    "name": "ipython",
    "version": 3
   },
   "file_extension": ".py",
   "mimetype": "text/x-python",
   "name": "python",
   "nbconvert_exporter": "python",
   "pygments_lexer": "ipython3",
   "version": "3.12.1"
  }
 },
 "nbformat": 4,
 "nbformat_minor": 5
}
